{
 "cells": [
  {
   "cell_type": "markdown",
   "id": "a4ae80f0-cddb-40f5-ab79-598709ccfcf2",
   "metadata": {},
   "source": [
    "Q1. What is Abstraction in OOps? Explain with an example."
   ]
  },
  {
   "cell_type": "markdown",
   "id": "3ca8b345-5263-4466-bee5-e1d2e1e63331",
   "metadata": {},
   "source": [
    "Ans:---In object-oriented programming (OOP), abstraction is a fundamental concept that allows us to model real-world objects as classes or types. It involves representing the essential features and behaviors of an object while hiding the unnecessary details."
   ]
  },
  {
   "cell_type": "code",
   "execution_count": 18,
   "id": "772a8d2b-a386-4a7d-9ddb-488727033b5b",
   "metadata": {},
   "outputs": [],
   "source": [
    "class  car:\n",
    "    def __init__(self,make,model,colour,average,speed):\n",
    "        self.make=make\n",
    "        self.model=model\n",
    "        self.colour=colour\n",
    "        self.average=average\n",
    "        self.speed=0\n",
    "        \n",
    "    def startengine(self):\n",
    "        return \"starting car's engine\"\n",
    "        \n",
    "    def accelerate(self,acceleration):\n",
    "        return \"increasing speed of a car\"\n",
    "        \n",
    "    def brake(self):\n",
    "        return \"slowing or stopping the car\"\n",
    "        \n",
    "    def turn(self,direction):\n",
    "        return f\"i will turn {direction}\"\n",
    "\n",
    "        "
   ]
  },
  {
   "cell_type": "code",
   "execution_count": 19,
   "id": "fd8d11b2-ce7d-4148-bfb5-cd55c6b86043",
   "metadata": {},
   "outputs": [],
   "source": [
    "c1=car(\"Toyota\", \"Camry\", \"Blue\", 20,200)"
   ]
  },
  {
   "cell_type": "code",
   "execution_count": 20,
   "id": "663ffff9-0658-4f08-a0b3-60ae4d0fbff7",
   "metadata": {},
   "outputs": [
    {
     "data": {
      "text/plain": [
       "\"starting car's engine\""
      ]
     },
     "execution_count": 20,
     "metadata": {},
     "output_type": "execute_result"
    }
   ],
   "source": [
    "c1.startengine()"
   ]
  },
  {
   "cell_type": "code",
   "execution_count": 21,
   "id": "dc4dc33b-5785-449c-8635-2821d54adaa3",
   "metadata": {},
   "outputs": [
    {
     "data": {
      "text/plain": [
       "'slowing or stopping the car'"
      ]
     },
     "execution_count": 21,
     "metadata": {},
     "output_type": "execute_result"
    }
   ],
   "source": [
    "c1.brake()"
   ]
  },
  {
   "cell_type": "code",
   "execution_count": 23,
   "id": "39215412-ad95-4adc-828c-f58941f16873",
   "metadata": {},
   "outputs": [
    {
     "data": {
      "text/plain": [
       "'i will turn left'"
      ]
     },
     "execution_count": 23,
     "metadata": {},
     "output_type": "execute_result"
    }
   ],
   "source": [
    "c1.turn(\"left\")"
   ]
  },
  {
   "cell_type": "markdown",
   "id": "3b85a74b-fb08-4f36-abea-a39b8b92c6ce",
   "metadata": {},
   "source": [
    "Q2.Differentiate between Abstraction and Encapsulation. Explain with an example."
   ]
  },
  {
   "cell_type": "markdown",
   "id": "a45a6627-b9d6-4b27-a2f4-bae2517de039",
   "metadata": {},
   "source": [
    "Ans:---Abstraction and encapsulation are both important concepts in object-oriented programming, but they have distinct meanings and purposes."
   ]
  },
  {
   "cell_type": "markdown",
   "id": "88cc61d2-de5d-4dc7-b7d0-ec6ffc277863",
   "metadata": {},
   "source": [
    "Abstraction:\n",
    "\n",
    "1.Abstraction focuses on representing the essential characteristics and behaviors of an object while hiding the unnecessary details.\n",
    "2.It allows us to create abstract concepts or classes that provide a simplified view of objects, emphasizing what they do rather than how they do it.\n",
    "3.Abstraction is achieved through defining interfaces, abstract classes, and methods that provide a way to interact with objects without knowing the internal implementation details."
   ]
  },
  {
   "cell_type": "code",
   "execution_count": 24,
   "id": "0380f3d0-3925-4aa0-a81e-9eec80ae8976",
   "metadata": {},
   "outputs": [],
   "source": [
    "class phone_call:\n",
    "    def reply_from_message(self):\n",
    "        pass\n",
    "    def answer(self):\n",
    "        pass\n",
    "    def decline(self):\n",
    "        pass"
   ]
  },
  {
   "cell_type": "code",
   "execution_count": 27,
   "id": "af2cd2e1-9d9b-459d-84fb-d8f9db443298",
   "metadata": {},
   "outputs": [
    {
     "data": {
      "text/plain": [
       "<function __main__.phone_call.decline(self)>"
      ]
     },
     "execution_count": 27,
     "metadata": {},
     "output_type": "execute_result"
    }
   ],
   "source": [
    "phone_call.decline"
   ]
  },
  {
   "cell_type": "markdown",
   "id": "8ebe8a90-4973-4e59-b984-7c55dcfe14e3",
   "metadata": {},
   "source": [
    "Encapsulation:\n",
    "\n",
    "1.Encapsulation focuses on bundling data and methods together into a single unit, called a class, and controlling access to that unit.\n",
    "2.It promotes the idea of data hiding, where the internal state of an object is hidden from the outside world, and access to that state is restricted to well-defined methods.\n",
    "3.Encapsulation helps in achieving information hiding, maintaining data integrity, and protecting the object's internal implementation."
   ]
  },
  {
   "cell_type": "code",
   "execution_count": 31,
   "id": "53a874ab-e3ee-4009-b988-4e14ffaec6b0",
   "metadata": {},
   "outputs": [],
   "source": [
    "class audio_player:\n",
    "    def __init__(self,file):\n",
    "        self.file=file\n",
    "        self.volume=40\n",
    "    \n",
    "    def play(self):\n",
    "        return \"starting to play audio\"\n",
    "    \n",
    "    def pause(self):\n",
    "        return \"pausing the audio\"\n",
    "    \n",
    "    def stop(self):\n",
    "        return \"stopping the audio\"\n",
    "    \n",
    "    def set_volume(self,volume):\n",
    "        pass\n",
    "    \n",
    "    def get_volume(self):\n",
    "        pass\n",
    "    \n",
    "    def analyze_spectrum(self):\n",
    "        pass\n",
    "        \n",
    "        "
   ]
  },
  {
   "cell_type": "code",
   "execution_count": 37,
   "id": "11219608-d9a2-4210-a460-c15691b3791a",
   "metadata": {},
   "outputs": [],
   "source": [
    "a1=audio_player"
   ]
  },
  {
   "cell_type": "code",
   "execution_count": 40,
   "id": "05491001-3d53-4e5f-b4e9-29033ea6f304",
   "metadata": {},
   "outputs": [
    {
     "data": {
      "text/plain": [
       "<function __main__.audio_player.pause(self)>"
      ]
     },
     "execution_count": 40,
     "metadata": {},
     "output_type": "execute_result"
    }
   ],
   "source": [
    "a1.pause"
   ]
  },
  {
   "cell_type": "markdown",
   "id": "e592c3c1-dc2e-428b-b77b-5a2a9f72fe73",
   "metadata": {},
   "source": [
    "Q3. What is abc module in python? Why is it used?"
   ]
  },
  {
   "cell_type": "markdown",
   "id": "32308a5a-9b5b-4e14-8264-7704df870d53",
   "metadata": {},
   "source": [
    "Ans:---\n",
    "1.The abc module in Python stands for \"Abstract Base Classes.\" It provides the infrastructure for defining abstract base classes, which are classes that cannot be instantiated directly but serve as a template for subclasses.\n",
    "\n",
    "2.The abc module is used to implement abstract classes and abstract methods in Python. Abstract classes are classes that are meant to be inherited from and provide a common interface for a group of related classes. They define a blueprint or a contract for the subclasses to follow.\n",
    "\n",
    "3.The main purpose of using the abc module and defining abstract base classes is to enforce a certain structure or behavior in subclasses. By defining abstract methods within an abstract base class, we can require the subclasses to implement those methods. This promotes consistency, code reusability, and helps ensure that subclasses adhere to a specific interface."
   ]
  },
  {
   "cell_type": "markdown",
   "id": "6b9cfd74-5f78-4209-9475-a3c7d57cd955",
   "metadata": {},
   "source": [
    "Q4.How can we achieve data abstraction?"
   ]
  },
  {
   "cell_type": "markdown",
   "id": "3e6a9081-2ba2-4108-9c6e-a49cfb99f22e",
   "metadata": {},
   "source": [
    "In object-oriented programming, data abstraction can be achieved through the use of classes, access modifiers, and getter/setter methods."
   ]
  },
  {
   "cell_type": "code",
   "execution_count": 1,
   "id": "de397479-01c1-4546-a95a-e47319400907",
   "metadata": {},
   "outputs": [],
   "source": [
    "class Persons_details:\n",
    "    def __init__(self, name, age):\n",
    "        self._name = name\n",
    "        self._age = age\n",
    "    \n",
    "    def get_name(self):\n",
    "        return self._name\n",
    "    \n",
    "    def set_name(self, name):\n",
    "        self._name = name\n",
    "    \n",
    "    def get_age(self):\n",
    "        return self._age\n",
    "    \n",
    "    def set_age(self, age):\n",
    "        if age >= 0:\n",
    "            self._age = age\n",
    "        else:\n",
    "            print(\"Invalid age!\")\n"
   ]
  },
  {
   "cell_type": "code",
   "execution_count": 3,
   "id": "bd77a516-905e-4641-99e1-dd84ca77ba90",
   "metadata": {},
   "outputs": [],
   "source": [
    "pd1=Persons_details(\"NAVEED\",21)"
   ]
  },
  {
   "cell_type": "code",
   "execution_count": 7,
   "id": "0b82554a-2dab-44ba-9017-d4afdccd21d1",
   "metadata": {},
   "outputs": [
    {
     "data": {
      "text/plain": [
       "'NAVEED'"
      ]
     },
     "execution_count": 7,
     "metadata": {},
     "output_type": "execute_result"
    }
   ],
   "source": [
    "pd1.get_name()"
   ]
  },
  {
   "cell_type": "code",
   "execution_count": 8,
   "id": "09650d62-1b8b-40df-b69f-f3e1a50cd104",
   "metadata": {},
   "outputs": [
    {
     "data": {
      "text/plain": [
       "21"
      ]
     },
     "execution_count": 8,
     "metadata": {},
     "output_type": "execute_result"
    }
   ],
   "source": [
    "pd1.get_age()"
   ]
  },
  {
   "cell_type": "code",
   "execution_count": 9,
   "id": "8aa5aa3c-a114-4e2f-bf59-0ad6924b3f5e",
   "metadata": {},
   "outputs": [],
   "source": [
    "pd1.set_name(\"NAVEED KHAN\")"
   ]
  },
  {
   "cell_type": "code",
   "execution_count": 11,
   "id": "a200110d-a727-441b-9a24-670768f9b1fa",
   "metadata": {},
   "outputs": [
    {
     "data": {
      "text/plain": [
       "'NAVEED KHAN'"
      ]
     },
     "execution_count": 11,
     "metadata": {},
     "output_type": "execute_result"
    }
   ],
   "source": [
    "pd1.get_name()"
   ]
  },
  {
   "cell_type": "code",
   "execution_count": 12,
   "id": "1f6c6306-0922-45fb-a604-93ca63a7e4aa",
   "metadata": {},
   "outputs": [],
   "source": [
    "pd1.set_age(18+3)"
   ]
  },
  {
   "cell_type": "code",
   "execution_count": 13,
   "id": "e6fd0695-2259-475f-a184-adccae2db85d",
   "metadata": {},
   "outputs": [
    {
     "data": {
      "text/plain": [
       "21"
      ]
     },
     "execution_count": 13,
     "metadata": {},
     "output_type": "execute_result"
    }
   ],
   "source": [
    "pd1.get_age()"
   ]
  },
  {
   "cell_type": "markdown",
   "id": "ee094d84-705a-44c0-80c3-30fa17f4d22e",
   "metadata": {},
   "source": [
    "Q5.Can we create an instance of an abstract class? Explain your answer.\n",
    "\n"
   ]
  },
  {
   "cell_type": "markdown",
   "id": "c872d732-020b-4a4d-bc7d-b8002a5d0716",
   "metadata": {},
   "source": [
    "Ans:---\n",
    "1.No, we cannot create an instance of an abstract class in most programming languages, including Python. An abstract class serves as a blueprint or template for subclasses and is designed to be inherited from, not instantiated directly.\n",
    "\n",
    "2.Abstract classes contain one or more abstract methods, which are methods declared in the abstract class but do not provide any implementation. These abstract methods must be overridden in the concrete subclasses that inherit from the abstract class."
   ]
  },
  {
   "cell_type": "code",
   "execution_count": null,
   "id": "7457e538-4acd-4d46-ad3d-d64a91a427f7",
   "metadata": {},
   "outputs": [],
   "source": []
  }
 ],
 "metadata": {
  "kernelspec": {
   "display_name": "Python 3 (ipykernel)",
   "language": "python",
   "name": "python3"
  },
  "language_info": {
   "codemirror_mode": {
    "name": "ipython",
    "version": 3
   },
   "file_extension": ".py",
   "mimetype": "text/x-python",
   "name": "python",
   "nbconvert_exporter": "python",
   "pygments_lexer": "ipython3",
   "version": "3.10.8"
  }
 },
 "nbformat": 4,
 "nbformat_minor": 5
}
